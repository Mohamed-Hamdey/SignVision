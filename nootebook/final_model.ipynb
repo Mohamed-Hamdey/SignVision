{
 "cells": [
  {
   "cell_type": "code",
   "execution_count": 1,
   "id": "5a10c44e",
   "metadata": {},
   "outputs": [],
   "source": [
    "# scripts/visualize_labels.py\n",
    "import os, cv2\n",
    "import glob\n",
    "import matplotlib.pyplot as plt\n",
    "\n",
    "IMG_DIR = \"E:/Downloads/sign_language/SignVision/Sign Language Detection - data/images/train\"\n",
    "LBL_DIR = \"E:/Downloads/sign_language/SignVision/Sign Language Detection - data/labels/train\"\n",
    "EXTS = (\"*.jpg\", \"*.png\", \"*.jpeg\")\n",
    "\n",
    "def read_yolo_label(path):\n",
    "    with open(path, \"r\") as f:\n",
    "        lines = [l.strip() for l in f if l.strip()]\n",
    "    boxes = []\n",
    "    for line in lines:\n",
    "        parts = line.split()\n",
    "        if len(parts) != 5: \n",
    "            continue\n",
    "        cls, x_c, y_c, w, h = map(float, parts)\n",
    "        boxes.append((int(cls), x_c, y_c, w, h))\n",
    "    return boxes\n",
    "\n",
    "sample_images = []\n",
    "for ext in EXTS:\n",
    "    sample_images += glob.glob(os.path.join(IMG_DIR, ext))\n",
    "\n",
    "sample_images = sample_images[:30]  # limit to 30 images to inspect\n",
    "\n",
    "for p in sample_images:\n",
    "    fname = os.path.basename(p)\n",
    "    label_path = os.path.join(LBL_DIR, os.path.splitext(fname)[0] + \".txt\")\n",
    "    img = cv2.imread(p)\n",
    "    if img is None:\n",
    "        continue\n",
    "    h, w = img.shape[:2]\n",
    "    boxes = []\n",
    "    if os.path.exists(label_path):\n",
    "        boxes = read_yolo_label(label_path)\n",
    "    # draw boxes\n",
    "    for cls, x_c, y_c, bw, bh in boxes:\n",
    "        x1 = int((x_c - bw/2) * w)\n",
    "        y1 = int((y_c - bh/2) * h)\n",
    "        x2 = int((x_c + bw/2) * w)\n",
    "        y2 = int((y_c + bh/2) * h)\n",
    "        cv2.rectangle(img, (x1,y1), (x2,y2), (0,255,0), 2)\n",
    "        cv2.putText(img, str(cls), (x1, max(y1-6,0)), cv2.FONT_HERSHEY_SIMPLEX, 0.6, (0,255,0), 2)\n",
    "    # show\n",
    "    img_rgb = cv2.cvtColor(img, cv2.COLOR_BGR2RGB)\n",
    "    plt.figure(figsize=(8,6))\n",
    "    plt.imshow(img_rgb)\n",
    "    plt.axis('off')\n",
    "    plt.title(fname)\n",
    "    plt.show()\n"
   ]
  }
 ],
 "metadata": {
  "kernelspec": {
   "display_name": "venv",
   "language": "python",
   "name": "python3"
  },
  "language_info": {
   "codemirror_mode": {
    "name": "ipython",
    "version": 3
   },
   "file_extension": ".py",
   "mimetype": "text/x-python",
   "name": "python",
   "nbconvert_exporter": "python",
   "pygments_lexer": "ipython3",
   "version": "3.11.5"
  }
 },
 "nbformat": 4,
 "nbformat_minor": 5
}
